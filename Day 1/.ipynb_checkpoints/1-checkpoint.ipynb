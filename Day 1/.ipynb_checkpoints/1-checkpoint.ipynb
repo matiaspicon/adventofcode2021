{
 "cells": [
  {
   "cell_type": "code",
   "execution_count": 1,
   "id": "77a257c1-40de-4cf7-988f-deb4ef06dc25",
   "metadata": {},
   "outputs": [],
   "source": [
    "f = open(\"data1.txt\", \"r\")\n",
    "data = f.read()"
   ]
  },
  {
   "cell_type": "code",
   "execution_count": 8,
   "id": "b3d19143-0970-43d8-8a64-31f73bee7892",
   "metadata": {},
   "outputs": [],
   "source": [
    "data_clean = data.split(\"\\n\")\n",
    "data_clean = [int(x) for x in data_clean]"
   ]
  },
  {
   "cell_type": "code",
   "execution_count": null,
   "id": "ffc71484-711a-4301-95e3-77848956322f",
   "metadata": {},
   "outputs": [],
   "source": []
  },
  {
   "cell_type": "code",
   "execution_count": 25,
   "id": "3ec445bd-31f0-451f-adda-2823b7934a59",
   "metadata": {},
   "outputs": [],
   "source": [
    "cant_increase = 0\n",
    "last = data_clean[0]\n",
    "for meassure in data_clean[1:]:\n",
    "    if last < meassure:\n",
    "        cant_increase+= 1\n",
    "    last = meassure\n",
    "print(cant_increase)\n",
    "    "
   ]
  }
 ],
 "metadata": {
  "kernelspec": {
   "display_name": "Python 3 (ipykernel)",
   "language": "python",
   "name": "python3"
  },
  "language_info": {
   "codemirror_mode": {
    "name": "ipython",
    "version": 3
   },
   "file_extension": ".py",
   "mimetype": "text/x-python",
   "name": "python",
   "nbconvert_exporter": "python",
   "pygments_lexer": "ipython3",
   "version": "3.9.5"
  }
 },
 "nbformat": 4,
 "nbformat_minor": 5
}

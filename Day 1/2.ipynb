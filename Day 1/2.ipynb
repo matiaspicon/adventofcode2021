{
 "cells": [
  {
   "cell_type": "code",
   "execution_count": 20,
   "id": "77a257c1-40de-4cf7-988f-deb4ef06dc25",
   "metadata": {},
   "outputs": [],
   "source": [
    "f = open(\"../Data/data1.txt\", \"r\")\n",
    "data = f.read()\n",
    "data_clean = data.split(\"\\n\")\n",
    "data_clean = [int(x) for x in data_clean]"
   ]
  },
  {
   "cell_type": "code",
   "execution_count": 31,
   "id": "3ec445bd-31f0-451f-adda-2823b7934a59",
   "metadata": {},
   "outputs": [
    {
     "name": "stdout",
     "output_type": "stream",
     "text": [
      "1858\n"
     ]
    }
   ],
   "source": [
    "cant_increase = 0\n",
    "sum_last = sum(data_clean[0: 3])\n",
    "sum_new = 0\n",
    "\n",
    "for index in range(1,len(data_clean)-2,1) :\n",
    "    sum_new = 0\n",
    "    sum_new = sum(data_clean[index: (index+3)])\n",
    "    if sum_new > sum_last:\n",
    "        cant_increase+= 1    \n",
    "    sum_last = sum_new\n",
    "    \n",
    "    \n",
    "print(cant_increase)\n",
    "    "
   ]
  },
  {
   "cell_type": "code",
   "execution_count": 27,
   "id": "6c40e0c1-a746-4afc-a1a6-c72f8d8a56ce",
   "metadata": {},
   "outputs": [
    {
     "data": {
      "text/plain": [
       "2000"
      ]
     },
     "execution_count": 27,
     "metadata": {},
     "output_type": "execute_result"
    }
   ],
   "source": [
    "len(data_clean)"
   ]
  }
 ],
 "metadata": {
  "kernelspec": {
   "display_name": "Python 3 (ipykernel)",
   "language": "python",
   "name": "python3"
  },
  "language_info": {
   "codemirror_mode": {
    "name": "ipython",
    "version": 3
   },
   "file_extension": ".py",
   "mimetype": "text/x-python",
   "name": "python",
   "nbconvert_exporter": "python",
   "pygments_lexer": "ipython3",
   "version": "3.9.5"
  }
 },
 "nbformat": 4,
 "nbformat_minor": 5
}
